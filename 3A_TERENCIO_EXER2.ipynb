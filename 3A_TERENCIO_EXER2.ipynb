{
  "cells": [
    {
      "cell_type": "markdown",
      "metadata": {
        "id": "pT3MfVK8yomU"
      },
      "source": [
        "#**Exercise 1: Introduction to Probability Theory in AI**"
      ]
    },
    {
      "cell_type": "markdown",
      "metadata": {
        "id": "LtVk7utX9PkZ"
      },
      "source": [
        "Assessment Task 1: Basic Probability Calculations\n",
        "\n",
        "\n"
      ]
    },
    {
      "cell_type": "code",
      "execution_count": 1,
      "metadata": {
        "colab": {
          "base_uri": "https://localhost:8080/"
        },
        "id": "lPfNyOxPwkHu",
        "outputId": "0b0ff252-603a-4108-b669-355232671beb"
      },
      "outputs": [
        {
          "output_type": "stream",
          "name": "stdout",
          "text": [
            "Joint Probability: 0.12\n",
            "Marginal Probability: 0.58\n",
            "Conditional Probability: 0.6\n"
          ]
        }
      ],
      "source": [
        "def joint_prob(p_A, p_B):\n",
        "    return p_A * p_B\n",
        "\n",
        "def marginal_prob(p_A, p_B):\n",
        "    return p_A + p_B - (p_A * p_B)\n",
        "\n",
        "def conditional_prob(p_B_given_A, p_A, p_B):\n",
        "    return (p_B_given_A * p_A) / p_B\n",
        "\n",
        "p_A, p_B, p_B_given_A = 0.3, 0.4, 0.8\n",
        "\n",
        "print(f\"Joint Probability: {joint_prob(p_A, p_B)}\")\n",
        "print(f\"Marginal Probability: {marginal_prob(p_A, p_B)}\")\n",
        "print(f\"Conditional Probability: {conditional_prob(p_B_given_A, p_A, p_B)}\")"
      ]
    },
    {
      "cell_type": "markdown",
      "metadata": {
        "id": "XKp5cdUI3KAM"
      },
      "source": [
        "#**Exercise 2: Decision-Making Under Uncertainty**"
      ]
    },
    {
      "cell_type": "code",
      "execution_count": 2,
      "metadata": {
        "colab": {
          "base_uri": "https://localhost:8080/"
        },
        "id": "tHGdV0ug3NGy",
        "outputId": "8c5a69a1-2b34-4f8f-feee-0e6978993193"
      },
      "outputs": [
        {
          "output_type": "stream",
          "name": "stdout",
          "text": [
            "Expected value of decision: 518.5\n"
          ]
        }
      ],
      "source": [
        "import numpy as np\n",
        "\n",
        "def simulate_decision(num_simulation, p_success, reward_success, reward_failure):\n",
        "    outcomes = np.random.choice([reward_success, reward_failure], size=num_simulation, p=[p_success, 1 - p_success])\n",
        "    return outcomes.mean()\n",
        "\n",
        "p_success, reward_success, reward_failure = 0.7, 1000, -500\n",
        "average_outcome = simulate_decision(1000, p_success, reward_success, reward_failure)\n",
        "print(f\"Expected value of decision: {average_outcome}\")"
      ]
    },
    {
      "cell_type": "markdown",
      "metadata": {
        "id": "qwCCsaIq5YF3"
      },
      "source": [
        "#**Exercise 3: Applying Probability Theory in AI for Diagnosis**"
      ]
    },
    {
      "cell_type": "code",
      "execution_count": 6,
      "metadata": {
        "colab": {
          "base_uri": "https://localhost:8080/"
        },
        "id": "Izgji02e5XMt",
        "outputId": "6d4ebd0c-8768-4d34-a4f7-e5caeea50f38"
      },
      "outputs": [
        {
          "output_type": "stream",
          "name": "stdout",
          "text": [
            "Posterior probability of disease given positive test: 0.18000000000000002\n"
          ]
        }
      ],
      "source": [
        "def bayesian_inference(prior, likelihood_positive_given_disease, likelihood_positive):\n",
        "    return (likelihood_positive_given_disease * prior) / likelihood_positive\n",
        "\n",
        "prior_disease = 0.01\n",
        "likelihood_positive_given_disease = 0.9\n",
        "likelihood_positive = 0.05\n",
        "\n",
        "posterior_disease = bayesian_inference(prior_disease, likelihood_positive_given_disease, likelihood_positive)\n",
        "print(f\"Posterior probability of disease given positive test: {posterior_disease}\")"
      ]
    },
    {
      "cell_type": "markdown",
      "metadata": {
        "id": "H4erPe_xAgEt"
      },
      "source": [
        "#**Exercise 4: Probability Distribution in AI**"
      ]
    },
    {
      "cell_type": "code",
      "execution_count": 11,
      "metadata": {
        "id": "RLIoxVHDAg6l",
        "colab": {
          "base_uri": "https://localhost:8080/",
          "height": 452
        },
        "outputId": "8c05efa0-5580-4046-dfee-ee97eecf8f0c"
      },
      "outputs": [
        {
          "output_type": "display_data",
          "data": {
            "text/plain": [
              "<Figure size 640x480 with 1 Axes>"
            ],
            "image/png": "[encoded data removed]"
          },
          "metadata": {}
        }
      ],
      "source": [
        "import numpy as np\n",
        "import matplotlib.pyplot as plt\n",
        "\n",
        "n_trials = 1000\n",
        "p_head = 0.5\n",
        "biomial_distribution = np.random.binomial(n=1, p=p_head, size=n_trials)\n",
        "\n",
        "plt.hist(biomial_distribution, bins=2)\n",
        "plt.title('Binomial Distribution (Coin Filps)')\n",
        "plt.show()"
      ]
    },
    {
      "cell_type": "markdown",
      "metadata": {
        "id": "yQW5NxuKBkSP"
      },
      "source": [
        "#**Exercise 5: Real-World Application of Probability in AI**"
      ]
    },
    {
      "cell_type": "code",
      "execution_count": 15,
      "metadata": {
        "id": "aa8KY39jBlEw",
        "colab": {
          "base_uri": "https://localhost:8080/"
        },
        "outputId": "ef5bf83a-0367-49a2-d003-a38b58760722"
      },
      "outputs": [
        {
          "output_type": "stream",
          "name": "stdout",
          "text": [
            "Probability of purchase: 0.12\n"
          ]
        }
      ],
      "source": [
        "p_purchase_given_cart = 0.4\n",
        "p_cart = 0.3\n",
        "\n",
        "p_purchase = p_purchase_given_cart * p_cart\n",
        "print(f\"Probability of purchase: {p_purchase}\")"
      ]
    }
  ],
  "metadata": {
    "colab": {
      "provenance": []
    },
    "kernelspec": {
      "display_name": "Python 3",
      "name": "python3"
    },
    "language_info": {
      "name": "python"
    }
  },
  "nbformat": 4,
  "nbformat_minor": 0
}