{
  "nbformat": 4,
  "nbformat_minor": 0,
  "metadata": {
    "colab": {
      "provenance": []
    },
    "kernelspec": {
      "name": "python3",
      "display_name": "Python 3"
    },
    "language_info": {
      "name": "python"
    }
  },
  "cells": [
    {
      "cell_type": "markdown",
      "source": [
        "# PART 1\n",
        "## Disease : Flu (Influenza)\n",
        "### Contributing Factors : Fever"
      ],
      "metadata": {
        "id": "Npgb5bHkj2Pd"
      }
    },
    {
      "cell_type": "markdown",
      "source": [
        "###PART 2"
      ],
      "metadata": {
        "id": "CnqDMqUtkXQp"
      }
    },
    {
      "cell_type": "code",
      "execution_count": 1,
      "metadata": {
        "colab": {
          "base_uri": "https://localhost:8080/"
        },
        "id": "2bGpywFljQpl",
        "outputId": "cc3d7328-2c36-4a88-c6ed-fc27354ae9f0"
      },
      "outputs": [
        {
          "output_type": "stream",
          "name": "stdout",
          "text": [
            "Enter the prior probability of disease (P(Disease)): 0.1\n",
            "Enter the likelihood of a positive test given disease (P(Positive | Disease)): 0.9\n",
            "Enter the likelihood of a positive test given no disease (P(Positive | No Disease)): 0.05\n",
            "Enter the marginal probability of a positive test (P(Positive)): 0.05\n",
            "Posterior Probability of Disease: 1.8000\n"
          ]
        }
      ],
      "source": [
        "def calculate_posterior_probability():\n",
        "    prior_disease = float(input(\"Enter the prior probability of disease (P(Disease)): \"))\n",
        "    likelihood_positive_given_disease = float(input(\"Enter the likelihood of a positive test given disease (P(Positive | Disease)): \"))\n",
        "    likelihood_positive_given_no_disease = float(input(\"Enter the likelihood of a positive test given no disease (P(Positive | No Disease)): \"))\n",
        "    marginal_probability_positive = float(input(\"Enter the marginal probability of a positive test (P(Positive)): \"))\n",
        "\n",
        "    posterior_probability = (likelihood_positive_given_disease * prior_disease) / marginal_probability_positive\n",
        "    return f\"Posterior Probability of Disease: {posterior_probability:.4f}\"\n",
        "\n",
        "print(calculate_posterior_probability())"
      ]
    },
    {
      "cell_type": "markdown",
      "source": [
        "###PART 3"
      ],
      "metadata": {
        "id": "RQI5myaqm9TR"
      }
    },
    {
      "cell_type": "code",
      "source": [
        "def evaluate_uncertain_decision():\n",
        "    probability_success = float(input(\"Enter the probability of success (in %): \"))\n",
        "    benefit_value = float(input(\"Enter the benefit from success: \"))\n",
        "    probability_failure = float(input(\"Enter the probability of failure (in %): \"))\n",
        "    loss_value = float(input(\"Enter the loss from failure: \"))\n",
        "\n",
        "    probability_success /= 100\n",
        "    probability_failure /= 100\n",
        "\n",
        "    expected_result = (probability_success * benefit_value) + (probability_failure * loss_value)\n",
        "    return f\"Expected Result: {expected_result:.2f}\"\n",
        "\n",
        "print(evaluate_uncertain_decision())"
      ],
      "metadata": {
        "colab": {
          "base_uri": "https://localhost:8080/"
        },
        "id": "LpgWdbqcm_Fr",
        "outputId": "45b1b76d-37d9-42a3-d50c-bf4375baa34d"
      },
      "execution_count": 3,
      "outputs": [
        {
          "output_type": "stream",
          "name": "stdout",
          "text": [
            "Enter the probability of success (in %): 70\n",
            "Enter the benefit from success: 1000\n",
            "Enter the probability of failure (in %): 30\n",
            "Enter the loss from failure: 500\n",
            "Expected Result: 850.00\n"
          ]
        }
      ]
    },
    {
      "cell_type": "markdown",
      "source": [
        "###PART 4"
      ],
      "metadata": {
        "id": "-qcGioFqo79Z"
      }
    },
    {
      "cell_type": "code",
      "source": [
        "import numpy as np\n",
        "import matplotlib.pyplot as plt\n",
        "\n",
        "trials_count = int(input(\"Input the number of trials: \"))\n",
        "probability_heads = float(input(\"Input the probability of heads (in %): \")) / 100\n",
        "binomial_distribution = np.random.binomial(n=1, p=probability_heads, size=trials_count)\n",
        "\n",
        "plt.hist(binomial_distribution, bins=2)\n",
        "plt.title(\"Binomial Distribution of Coin Flips\")\n",
        "plt.xlabel(\"Outcome (0 = Tails, 1 = Heads)\")\n",
        "plt.ylabel(\"Frequency\")\n",
        "plt.show()"
      ],
      "metadata": {
        "colab": {
          "base_uri": "https://localhost:8080/",
          "height": 507
        },
        "id": "ALzkkV2QVDJR",
        "outputId": "dcf2e7e7-0502-4590-bb7d-74ac2c0c23d5"
      },
      "execution_count": 6,
      "outputs": [
        {
          "name": "stdout",
          "output_type": "stream",
          "text": [
            "Input the number of trials: 1000\n",
            "Input the probability of heads (in %): 25\n"
          ]
        },
        {
          "output_type": "display_data",
          "data": {
            "text/plain": [
              "<Figure size 640x480 with 1 Axes>"
            ],
            "image/png": "[encoded data removed]"
          },
          "metadata": {}
        }
      ]
    },
    {
      "cell_type": "markdown",
      "source": [
        "###PART 5"
      ],
      "metadata": {
        "id": "lOEQQTClpnNl"
      }
    },
    {
      "cell_type": "markdown",
      "source": [
        "##REFLECTION\n",
        "\n",
        "Probability theory helps doctors make better decisions. It helps them know whether, according to symptoms and tests, a person has the disease or not. Doctors can sum up what they know about common diseases and test results to decide if a patient is sick. This can help them avoid and avoid mistakes in choosing the right treatment."
      ],
      "metadata": {
        "id": "JSNYv5uWprAV"
      }
    }
  ]
}