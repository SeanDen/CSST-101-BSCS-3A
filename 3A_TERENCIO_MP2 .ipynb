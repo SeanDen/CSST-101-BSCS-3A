{
  "nbformat": 4,
  "nbformat_minor": 0,
  "metadata": {
    "colab": {
      "provenance": []
    },
    "kernelspec": {
      "name": "python3",
      "display_name": "Python 3"
    },
    "language_info": {
      "name": "python"
    }
  },
  "cells": [
    {
      "cell_type": "markdown",
      "source": [
        "# 1. Basic Operations"
      ],
      "metadata": {
        "id": "7SugP_RqsCYI"
      }
    },
    {
      "cell_type": "code",
      "execution_count": 4,
      "metadata": {
        "colab": {
          "base_uri": "https://localhost:8080/"
        },
        "id": "B9Z6C4PwriXd",
        "outputId": "e485619a-0827-4d07-91e2-0223dbc2d068"
      },
      "outputs": [
        {
          "output_type": "stream",
          "name": "stdout",
          "text": [
            "p AND q: False\n",
            "p OR q: True\n",
            "NOT p: False\n",
            "p IMPLIES q: False\n"
          ]
        }
      ],
      "source": [
        "def and_operation(p, q):\n",
        "    \"\"\"Logical conjunction (AND).\"\"\"\n",
        "    return p and q\n",
        "\n",
        "def or_operation(p, q):\n",
        "    \"\"\"Logical disjunction (OR).\"\"\"\n",
        "    return p or q\n",
        "\n",
        "def not_operation(p):\n",
        "    \"\"\"Logical negation (NOT).\"\"\"\n",
        "    return not p\n",
        "\n",
        "def implies_operation(p, q):\n",
        "    \"\"\"Logical implication (IMPLIES).\"\"\"\n",
        "    return not p or q"
      ]
    },
    {
      "cell_type": "markdown",
      "source": [
        "# 2. Evaluate Logical Statements\n",
        "We can create a function that parses a string representation of the logical expression and evaluates it based on the provided truth values."
      ],
      "metadata": {
        "id": "PR3cvSo6sKH1"
      }
    },
    {
      "cell_type": "code",
      "source": [
        "def evaluate(statement, values):\n",
        "    statement = statement.replace('AND', 'and').replace('OR', 'or').replace('NOT', 'not')\n",
        "\n",
        "    try:\n",
        "        return eval(statement, {}, values)\n",
        "    except NameError as e:\n",
        "        raise ValueError(f\"Unknown token in statement: {e}\")"
      ],
      "metadata": {
        "id": "PF3OCOy5sO2J"
      },
      "execution_count": 3,
      "outputs": []
    },
    {
      "cell_type": "markdown",
      "source": [
        "# Example Usage\n",
        "The function first replaces logical operators in the string (AND, OR, NOT) with their Python equivalents (and, or, not).\n",
        "\n",
        "The eval() function then evaluates the logical expression using the provided truth values (variables) from the values dictionary."
      ],
      "metadata": {
        "id": "FQ1zYV5RuC-9"
      }
    },
    {
      "cell_type": "code",
      "source": [
        "def evaluate(statement, values):\n",
        "    statement = statement.replace('AND', 'and').replace('OR', 'or').replace('NOT', 'not')\n",
        "\n",
        "    try:\n",
        "        return eval(statement, {}, values)\n",
        "    except NameError as e:\n",
        "        raise ValueError(f\"Unknown token in statement: {e}\")"
      ],
      "metadata": {
        "id": "lKlWQcMWuA6Y"
      },
      "execution_count": 5,
      "outputs": []
    },
    {
      "cell_type": "markdown",
      "source": [
        "# Predicate Logic with Quantifiers\n",
        "1. Universal Quantifier (∀)\n",
        "The forall function checks if a given predicate holds true for all elements in a specified domain.\n",
        "2. Existential Quantifier (∃)\n",
        "The exists function checks if there is at least one element in the specified domain for which the predicate holds true.\n",
        "Implementation\n",
        "Here’s how you can implement these functions in Python:"
      ],
      "metadata": {
        "id": "ULKsfiP9uEpL"
      }
    },
    {
      "cell_type": "code",
      "source": [
        "def forall(predicate, domain):\n",
        "    \"\"\"Evaluate the universal quantifier (FOR ALL).\"\"\"\n",
        "    return all(predicate(x) for x in domain)\n",
        "\n",
        "def exists(predicate, domain):\n",
        "    \"\"\"Evaluate the existential quantifier (EXISTS).\"\"\"\n",
        "    return any(predicate(x) for x in domain)"
      ],
      "metadata": {
        "id": "VobA1bjduaIK"
      },
      "execution_count": 6,
      "outputs": []
    },
    {
      "cell_type": "markdown",
      "source": [
        "# Example Usage of Quantifiers"
      ],
      "metadata": {
        "id": "6G6CsSCgu-h5"
      }
    },
    {
      "cell_type": "code",
      "source": [
        "def is_even(x):\n",
        "    return x % 2 == 0\n",
        "\n",
        "def is_positive(x):\n",
        "    return x > 0\n",
        "\n",
        "def forall(predicate, domain):\n",
        "    return all(predicate(x) for x in domain)\n",
        "\n",
        "def exists(predicate, domain):\n",
        "    return any(predicate(x) for x in domain)\n",
        "\n",
        "domain = range(-5, 6)\n",
        "\n",
        "all_even = forall(is_even, domain)\n",
        "print(f\"All numbers are even: {all_even}\")\n",
        "\n",
        "any_even = exists(is_even, domain)\n",
        "print(f\"Any number is even: {any_even}\")\n",
        "\n",
        "all_positive = forall(is_positive, domain)\n",
        "print(f\"All numbers are positive: {all_positive}\")\n",
        "\n",
        "any_positive = exists(is_positive, domain)\n",
        "print(f\"Any number is positive: {any_positive}\")"
      ],
      "metadata": {
        "colab": {
          "base_uri": "https://localhost:8080/"
        },
        "id": "icDY94AYvAx0",
        "outputId": "0a4939f0-f29b-4390-b6ac-0bc4f2493f5b"
      },
      "execution_count": 7,
      "outputs": [
        {
          "output_type": "stream",
          "name": "stdout",
          "text": [
            "All numbers are even: False\n",
            "Any number is even: True\n",
            "All numbers are positive: False\n",
            "Any number is positive: True\n"
          ]
        }
      ]
    },
    {
      "cell_type": "markdown",
      "source": [
        "#**AI Agent Development**\n",
        "a game scenario where the agent decides the best move based on certain conditions. For this example, imagine a game where the agent can choose between three actions: \"move left,\" \"move right,\" and \"stay put.\" The decision is based on the following conditions"
      ],
      "metadata": {
        "id": "267sJTUPv6EO"
      }
    },
    {
      "cell_type": "markdown",
      "source": [
        "#is_close_to_target: Checks if the current position is close enough to the target position.\n",
        "\n",
        "#is_obstacle_near: Checks if there are any obstacles near the current position.\n",
        "\n",
        "#decide_move: Determines the best move based on the current position, target position, and obstacles:\n",
        "\n",
        "If the agent is close to the target, it stays put.\n",
        "If there are no obstacles, it moves towards the target.\n",
        "If obstacles are near, it chooses a move that avoids obstacles while trying to get closer to the target."
      ],
      "metadata": {
        "id": "Xc4rVZlkwQHV"
      }
    },
    {
      "cell_type": "code",
      "source": [
        "def is_close_to_target(current_position, target_position, threshold=1):\n",
        "    return abs(current_position - target_position) <= threshold\n",
        "\n",
        "def is_obstacle_near(current_position, obstacles, threshold=1):\n",
        "    return any(abs(current_position - obs) <= threshold for obs in obstacles)\n",
        "\n",
        "def decide_move(current_position, target_position, obstacles):\n",
        "    if is_close_to_target(current_position, target_position):\n",
        "        return \"stay put\"\n",
        "\n",
        "    if not is_obstacle_near(current_position, obstacles):\n",
        "        if current_position < target_position:\n",
        "            return \"move right\"\n",
        "        else:\n",
        "            return \"move left\"\n",
        "\n",
        "    # If there are obstacles near, make a safe move\n",
        "    if current_position < target_position:\n",
        "        return \"move right\"\n",
        "    else:\n",
        "        return \"move left\"\n",
        "\n",
        "# Define the scenario\n",
        "current_position = 5\n",
        "target_position = 10\n",
        "obstacles = [7, 8]\n",
        "\n",
        "# Get the decision\n",
        "move = decide_move(current_position, target_position, obstacles)\n",
        "print(f\"The agent decides to: {move}\")\n"
      ],
      "metadata": {
        "colab": {
          "base_uri": "https://localhost:8080/"
        },
        "id": "75EQNdorwdgi",
        "outputId": "e1209dd7-c52b-4ede-dd59-2d7200bbcc9e"
      },
      "execution_count": 8,
      "outputs": [
        {
          "output_type": "stream",
          "name": "stdout",
          "text": [
            "The agent decides to: move right\n"
          ]
        }
      ]
    }
  ]
}
