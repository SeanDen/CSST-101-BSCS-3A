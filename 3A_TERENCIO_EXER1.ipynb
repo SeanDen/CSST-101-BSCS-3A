{
  "nbformat": 4,
  "nbformat_minor": 0,
  "metadata": {
    "colab": {
      "provenance": []
    },
    "kernelspec": {
      "name": "python3",
      "display_name": "Python 3"
    },
    "language_info": {
      "name": "python"
    }
  },
  "cells": [
    {
      "cell_type": "markdown",
      "source": [
        "Exercise 1: Propositional Logic in Python\n"
      ],
      "metadata": {
        "id": "24nV1Pyh3zrD"
      }
    },
    {
      "cell_type": "code",
      "execution_count": 1,
      "metadata": {
        "colab": {
          "base_uri": "https://localhost:8080/"
        },
        "id": "yrUdWTZ3ybdh",
        "outputId": "366ba5a5-a8ba-4b55-afe9-bc1cbb4753ff"
      },
      "outputs": [
        {
          "output_type": "stream",
          "name": "stdout",
          "text": [
            "Is it raining? True\n",
            "Is the ground wet? True\n",
            "Will the match light? False\n"
          ]
        }
      ],
      "source": [
        "def is_raining():\n",
        "    return True\n",
        "\n",
        "def is_ground_wet(raining):\n",
        "    if raining:\n",
        "        return True\n",
        "    return False\n",
        "\n",
        "def will_match_light(ground_wet):\n",
        "    if ground_wet:\n",
        "        return False\n",
        "    return True\n",
        "\n",
        "\n",
        "raining = is_raining()\n",
        "ground_wet = is_ground_wet(raining)\n",
        "match_lights = will_match_light(ground_wet)\n",
        "\n",
        "print(\"Is it raining?\", raining)\n",
        "print(\"Is the ground wet?\", ground_wet)\n",
        "print(\"Will the match light?\", match_lights)"
      ]
    },
    {
      "cell_type": "markdown",
      "source": [
        "Exercise 2: Predicate Logic Representation"
      ],
      "metadata": {
        "id": "9WY923pj33GO"
      }
    },
    {
      "cell_type": "code",
      "source": [
        "def is_human(entity):\n",
        "    return entity == \"Socrates\"\n",
        "\n",
        "def is_mortal(entity):\n",
        "    if is_human(entity):\n",
        "        return True\n",
        "    return False\n",
        "\n",
        "\n",
        "entity = \"Socrates\"\n",
        "socrates_mortal = is_mortal(entity)\n",
        "\n",
        "print(f\"Is {entity} mortal?\", socrates_mortal)"
      ],
      "metadata": {
        "colab": {
          "base_uri": "https://localhost:8080/"
        },
        "id": "Y8ld09Ou4CZR",
        "outputId": "b0400b2c-1499-4fba-d8d0-0aed927dad51"
      },
      "execution_count": 2,
      "outputs": [
        {
          "output_type": "stream",
          "name": "stdout",
          "text": [
            "Is Socrates mortal? True\n"
          ]
        }
      ]
    },
    {
      "cell_type": "markdown",
      "source": [
        "Exercise 3: Inference Techniques in Logic-Based Systems"
      ],
      "metadata": {
        "id": "xEjiOo1-5diO"
      }
    },
    {
      "cell_type": "code",
      "source": [
        "def apply_modus_ponens(rules, facts):\n",
        "    conclusions = set()\n",
        "\n",
        "    for rule in rules:\n",
        "        antecedent, consequent = rule\n",
        "        if antecedent in facts:\n",
        "            conclusions.add(consequent)\n",
        "\n",
        "    return conclusions\n",
        "\n",
        "rules = [\n",
        "    (\"It rains\", \"The ground is wet\"),\n",
        "    (\"The ground is wet\", \"The match will not light\"),\n",
        "    (\"It is sunny\", \"The ground is dry\"),\n",
        "]\n",
        "\n",
        "\n",
        "facts = {\"It rains\"}\n",
        "\n",
        "conclusions = apply_modus_ponens(rules, facts)\n",
        "\n",
        "print(\"Facts:\", facts)\n",
        "print(\"Conclusions after applying Modus Ponens:\", conclusions)\n",
        "\n",
        "new_facts = facts.union(conclusions)\n",
        "new_conclusions = apply_modus_ponens(rules, new_facts)\n",
        "\n",
        "print(\"New Conclusions after second inference:\", new_conclusions)"
      ],
      "metadata": {
        "id": "ltebCDZz5fYh"
      },
      "execution_count": null,
      "outputs": []
    },
    {
      "cell_type": "markdown",
      "source": [
        "Exercise 4: Hands-on Lab - Implementing a Logic-Based Model in Python"
      ],
      "metadata": {
        "id": "Q20Arofh5hcs"
      }
    },
    {
      "cell_type": "code",
      "source": [
        "def is_hungry(person):\n",
        "    return person == \"John\"\n",
        "\n",
        "def will_eat(hungry):\n",
        "    if hungry:\n",
        "        return True\n",
        "    return False\n",
        "\n",
        "def no_longer_hungry(ate):\n",
        "    if ate:\n",
        "        return True\n",
        "    return False\n",
        "\n",
        "\n",
        "person = \"John\"\n",
        "hungry = is_hungry(person)\n",
        "ate = will_eat(hungry)\n",
        "not_hungry = no_longer_hungry(ate)\n",
        "\n",
        "print(f\"Is {person} hungry? {hungry}\")\n",
        "print(f\"Did {person} eat? {ate}\")\n",
        "print(f\"Is {person} no longer hungry? {not_hungry}\")"
      ],
      "metadata": {
        "id": "b2bv6yk55jWJ"
      },
      "execution_count": null,
      "outputs": []
    }
  ]
}